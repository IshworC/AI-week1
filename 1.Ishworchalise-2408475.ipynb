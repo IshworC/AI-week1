{
 "cells": [
  {
   "cell_type": "markdown",
   "metadata": {},
   "source": [
    "Ishwor Chalise"
   ]
  },
  {
   "cell_type": "markdown",
   "metadata": {},
   "source": [
    "4.1 Warming Up Exercise: Basic Vector and Matrix Operation with Numpy.\n",
    "Problem - 1: Array Creation:\n",
    "Complete the following Tasks:\n",
    "1. Initialize an empty array with size 2X2.\n",
    "2. Initialize an all one array with size 4X2.\n",
    "3. Return a new array of given shape and type, filled with fill value.{Hint: np.full}\n",
    "4. Return a new array of zeros with same shape and type as a given array.{Hint: np.zeros like}\n",
    "5. Return a new array of ones with same shape and type as a given array.{Hint: np.ones like}\n",
    "6. For an existing list new_list = [1,2,3,4] convert to an numpy array.{Hint: np.array()}"
   ]
  },
  {
   "cell_type": "code",
   "execution_count": 74,
   "metadata": {},
   "outputs": [
    {
     "name": "stdout",
     "output_type": "stream",
     "text": [
      "Empty Array:\n",
      " [[1. 0.]\n",
      " [0. 1.]]\n"
     ]
    }
   ],
   "source": [
    "#Q.1\n",
    "import numpy as np\n",
    "\n",
    "# Task 1: Initialize an empty array with size 2x2\n",
    "empty_array = np.empty((2, 2))\n",
    "print(\"Empty Array:\\n\", empty_array)\n"
   ]
  },
  {
   "cell_type": "code",
   "execution_count": 75,
   "metadata": {},
   "outputs": [
    {
     "name": "stdout",
     "output_type": "stream",
     "text": [
      "\n",
      "All Ones Array:\n",
      " [[1. 1.]\n",
      " [1. 1.]\n",
      " [1. 1.]\n",
      " [1. 1.]]\n"
     ]
    }
   ],
   "source": [
    "# Task 2: Initialize an all ones array with size 4x2\n",
    "ones_array = np.ones((4, 2))\n",
    "print(\"\\nAll Ones Array:\\n\", ones_array)\n"
   ]
  },
  {
   "cell_type": "code",
   "execution_count": 76,
   "metadata": {},
   "outputs": [
    {
     "name": "stdout",
     "output_type": "stream",
     "text": [
      "\n",
      "Array Filled with 7:\n",
      " [[7 7 7]\n",
      " [7 7 7]\n",
      " [7 7 7]]\n"
     ]
    }
   ],
   "source": [
    "# Task 3: Return a new array of given shape and type, filled with fill value\n",
    "filled_array = np.full((3, 3), 7)\n",
    "print(\"\\nArray Filled with 7:\\n\", filled_array)"
   ]
  },
  {
   "cell_type": "code",
   "execution_count": null,
   "metadata": {},
   "outputs": [
    {
     "name": "stdout",
     "output_type": "stream",
     "text": [
      "\n",
      "Zeros Like Given Array:\n",
      " [[0 0 0]\n",
      " [0 0 0]]\n"
     ]
    }
   ],
   "source": [
    "# Task 4: Return a new array of zeros with same shape and type as a given array\n",
    "given_array = np.array([[1, 2, 3], [4, 5, 6]])\n",
    "zeros_like_array = np.zeros_like(given_array)\n",
    "print(\"\\nZeros Like Given Array:\\n\", zeros_like_array)"
   ]
  },
  {
   "cell_type": "code",
   "execution_count": 78,
   "metadata": {},
   "outputs": [
    {
     "name": "stdout",
     "output_type": "stream",
     "text": [
      "\n",
      "Ones Like Given Array:\n",
      " [[1 1 1]\n",
      " [1 1 1]]\n"
     ]
    }
   ],
   "source": [
    "# Task 5: Return a new array of ones with same shape and type as a given array\n",
    "ones_like_array = np.ones_like(given_array)\n",
    "print(\"\\nOnes Like Given Array:\\n\", ones_like_array)"
   ]
  },
  {
   "cell_type": "code",
   "execution_count": 79,
   "metadata": {},
   "outputs": [
    {
     "name": "stdout",
     "output_type": "stream",
     "text": [
      "\n",
      "Converted Numpy Array:\n",
      " [1 2 3 4]\n"
     ]
    }
   ],
   "source": [
    "# Task 6: Convert a list to a numpy array\n",
    "new_list = [1, 2, 3, 4]\n",
    "numpy_array = np.array(new_list)\n",
    "print(\"\\nConverted Numpy Array:\\n\", numpy_array)\n"
   ]
  },
  {
   "cell_type": "markdown",
   "metadata": {},
   "source": [
    "4.1.1 Problem - 2: Array Manipulation: Numerical Ranges and Array indexing:\n",
    "Complete the following tasks:\n",
    "1. Create an array with values ranging from 10 to 49. {Hint:np.arrange()}.\n",
    "2. Create a 3X3 matrix with values ranging from 0 to 8.\n",
    "{Hint:look for np.reshape()}\n",
    "3. Create a 3X3 identity matrix.{Hint:np.eye()}\n",
    "4. Create a random array of size 30 and find the mean of the array.\n",
    "{Hint:check for np.random.random() and array.mean() function}\n",
    "5. Create a 10X10 array with random values and find the minimum and maximum values.\n",
    "6. Create a zero array of size 10 and replace 5th element with 1.\n",
    "7. Reverse an array arr = [1,2,0,0,4,0].\n",
    "8. Create a 2d array with 1 on border and 0 inside.\n",
    "9. Create a 8X8 matrix and fill it with a checkerboard pattern."
   ]
  },
  {
   "cell_type": "code",
   "execution_count": 80,
   "metadata": {},
   "outputs": [
    {
     "name": "stdout",
     "output_type": "stream",
     "text": [
      "Array with values from 10 to 49:\n",
      " [10 11 12 13 14 15 16 17 18 19 20 21 22 23 24 25 26 27 28 29 30 31 32 33\n",
      " 34 35 36 37 38 39 40 41 42 43 44 45 46 47 48 49]\n"
     ]
    }
   ],
   "source": [
    "import numpy as np\n",
    "\n",
    "# Task 1: Create an array with values ranging from 10 to 49\n",
    "array_range = np.arange(10, 50)\n",
    "print(\"Array with values from 10 to 49:\\n\", array_range)\n"
   ]
  },
  {
   "cell_type": "code",
   "execution_count": 81,
   "metadata": {},
   "outputs": [
    {
     "name": "stdout",
     "output_type": "stream",
     "text": [
      "\n",
      "3x3 Matrix with values from 0 to 8:\n",
      " [[0 1 2]\n",
      " [3 4 5]\n",
      " [6 7 8]]\n"
     ]
    }
   ],
   "source": [
    "\n",
    "# Task 2: Create a 3x3 matrix with values ranging from 0 to 8\n",
    "matrix_3x3 = np.arange(9).reshape((3, 3))\n",
    "print(\"\\n3x3 Matrix with values from 0 to 8:\\n\", matrix_3x3)\n"
   ]
  },
  {
   "cell_type": "code",
   "execution_count": 82,
   "metadata": {},
   "outputs": [
    {
     "name": "stdout",
     "output_type": "stream",
     "text": [
      "\n",
      "3x3 Identity Matrix:\n",
      " [[1. 0. 0.]\n",
      " [0. 1. 0.]\n",
      " [0. 0. 1.]]\n"
     ]
    }
   ],
   "source": [
    "# Task 3: Create a 3x3 identity matrix\n",
    "identity_matrix = np.eye(3)\n",
    "print(\"\\n3x3 Identity Matrix:\\n\", identity_matrix)"
   ]
  },
  {
   "cell_type": "code",
   "execution_count": 83,
   "metadata": {},
   "outputs": [
    {
     "name": "stdout",
     "output_type": "stream",
     "text": [
      "\n",
      "Random Array:\n",
      " [0.04522888 0.46065036 0.58952574 0.93962672 0.25357791 0.02865956\n",
      " 0.07016496 0.9741803  0.32564982 0.404682   0.82219669 0.25618483\n",
      " 0.53200526 0.14951901 0.88993612 0.65982644 0.55407029 0.81315952\n",
      " 0.9227617  0.89482797 0.49444601 0.6876458  0.39463894 0.0942156\n",
      " 0.9039569  0.2095305  0.0105044  0.78747324 0.02025453 0.70388752]\n",
      "Mean of Random Array: 0.49643291707649406\n"
     ]
    }
   ],
   "source": [
    "# Task 4: Create a random array of size 30 and find the mean\n",
    "random_array = np.random.random(30)\n",
    "mean_value = random_array.mean()\n",
    "print(\"\\nRandom Array:\\n\", random_array)\n",
    "print(\"Mean of Random Array:\", mean_value)"
   ]
  },
  {
   "cell_type": "code",
   "execution_count": 84,
   "metadata": {},
   "outputs": [
    {
     "name": "stdout",
     "output_type": "stream",
     "text": [
      "\n",
      "10x10 Random Array:\n",
      " [[0.56221184 0.27222846 0.1514027  0.11103939 0.63245218 0.1971435\n",
      "  0.48386058 0.10664939 0.28887963 0.82314524]\n",
      " [0.16383436 0.2652833  0.92094549 0.31198862 0.538905   0.25130603\n",
      "  0.5157706  0.27097792 0.1571166  0.71168896]\n",
      " [0.28374481 0.58713559 0.4047306  0.1055456  0.83152179 0.46580354\n",
      "  0.43372092 0.21550442 0.19753694 0.08317178]\n",
      " [0.69679488 0.43811493 0.34429744 0.07557162 0.49375802 0.90831873\n",
      "  0.33839699 0.62628539 0.69017055 0.307926  ]\n",
      " [0.21039515 0.68441084 0.2177687  0.25355365 0.88925669 0.13673581\n",
      "  0.03497316 0.20173015 0.7111794  0.43419394]\n",
      " [0.95422588 0.12607452 0.96172773 0.84840668 0.91651694 0.78839002\n",
      "  0.13017045 0.29938794 0.97425696 0.17210571]\n",
      " [0.52927259 0.41716763 0.96233492 0.07031976 0.90743085 0.68923622\n",
      "  0.4477161  0.79164875 0.73288708 0.57843639]\n",
      " [0.03400892 0.92324521 0.51865374 0.57882641 0.93011387 0.81915134\n",
      "  0.55740435 0.9872849  0.51643665 0.32137585]\n",
      " [0.09301007 0.2673383  0.66137609 0.29189635 0.5221203  0.61262669\n",
      "  0.72043315 0.41906768 0.92879308 0.01561708]\n",
      " [0.14940864 0.32211528 0.27856857 0.2167355  0.64904325 0.93643067\n",
      "  0.0915006  0.18149042 0.57473279 0.97192852]]\n",
      "Minimum Value: 0.015617083026297718\n",
      "Maximum Value: 0.9872848998477679\n"
     ]
    }
   ],
   "source": [
    "# Task 5: Create a 10x10 array with random values and find the min and max values\n",
    "random_10x10 = np.random.random((10, 10))\n",
    "min_value = random_10x10.min()\n",
    "max_value = random_10x10.max()\n",
    "print(\"\\n10x10 Random Array:\\n\", random_10x10)\n",
    "print(\"Minimum Value:\", min_value)\n",
    "print(\"Maximum Value:\", max_value)"
   ]
  },
  {
   "cell_type": "code",
   "execution_count": 85,
   "metadata": {},
   "outputs": [
    {
     "name": "stdout",
     "output_type": "stream",
     "text": [
      "\n",
      "Zero Array with 5th element as 1:\n",
      " [0. 0. 0. 0. 1. 0. 0. 0. 0. 0.]\n"
     ]
    }
   ],
   "source": [
    "# Task 6: Create a zero array of size 10 and replace the 5th element with 1\n",
    "zero_array = np.zeros(10)\n",
    "zero_array[4] = 1 \n",
    "print(\"\\nZero Array with 5th element as 1:\\n\", zero_array)"
   ]
  },
  {
   "cell_type": "code",
   "execution_count": 86,
   "metadata": {},
   "outputs": [
    {
     "name": "stdout",
     "output_type": "stream",
     "text": [
      "\n",
      "Reversed Array:\n",
      " [0 4 0 0 2 1]\n"
     ]
    }
   ],
   "source": [
    "# Task 7: Reverse an array arr = [1, 2, 0, 0, 4, 0]\n",
    "arr = [1, 2, 0, 0, 4, 0]\n",
    "reversed_array = np.array(arr)[::-1]\n",
    "print(\"\\nReversed Array:\\n\", reversed_array)"
   ]
  },
  {
   "cell_type": "code",
   "execution_count": 87,
   "metadata": {},
   "outputs": [
    {
     "name": "stdout",
     "output_type": "stream",
     "text": [
      "\n",
      "2D Array with Border of 1 and Inside 0:\n",
      " [[1. 1. 1. 1. 1.]\n",
      " [1. 0. 0. 0. 1.]\n",
      " [1. 0. 0. 0. 1.]\n",
      " [1. 0. 0. 0. 1.]\n",
      " [1. 1. 1. 1. 1.]]\n"
     ]
    }
   ],
   "source": [
    "# Task 8: Create a 2D array with 1 on the border and 0 inside\n",
    "border_array = np.ones((5, 5)) \n",
    "border_array[1:-1, 1:-1] = 0\n",
    "print(\"\\n2D Array with Border of 1 and Inside 0:\\n\", border_array)"
   ]
  },
  {
   "cell_type": "code",
   "execution_count": 88,
   "metadata": {},
   "outputs": [
    {
     "name": "stdout",
     "output_type": "stream",
     "text": [
      "\n",
      "8x8 Checkerboard Pattern:\n",
      " [[0 1 0 1 0 1 0 1]\n",
      " [1 0 1 0 1 0 1 0]\n",
      " [0 1 0 1 0 1 0 1]\n",
      " [1 0 1 0 1 0 1 0]\n",
      " [0 1 0 1 0 1 0 1]\n",
      " [1 0 1 0 1 0 1 0]\n",
      " [0 1 0 1 0 1 0 1]\n",
      " [1 0 1 0 1 0 1 0]]\n"
     ]
    }
   ],
   "source": [
    "# Task 9: Create an 8x8 matrix and fill it with a checkerboard pattern\n",
    "checkerboard = np.zeros((8, 8), dtype=int)\n",
    "checkerboard[1::2, ::2] = 1 \n",
    "checkerboard[::2, 1::2] = 1     \n",
    "print(\"\\n8x8 Checkerboard Pattern:\\n\", checkerboard)"
   ]
  },
  {
   "cell_type": "markdown",
   "metadata": {},
   "source": [
    "Problem - 3: Array Operations:\n",
    "For the following arrays:\n",
    "x = np.array([[1,2],[3,5]]) and y = np.array([[5,6],[7,8]]);\n",
    "v = np.array([9,10]) and w = np.array([11,12]);\n",
    "Complete all the task using numpy:\n",
    "1. Add the two array.\n",
    "2. Subtract the two array.\n",
    "3. Multiply the array with any integers of your choice.\n",
    "4. Find the square of each element of the array.\n",
    "5. Find the dot product between: v(and)w ; x(and)v ; x(and)y.\n",
    "6. Concatenate x(and)y along row and Concatenate v(and)w along column.\n",
    "{Hint:try np.concatenate() or np.vstack() functions.\n",
    "7. Concatenate x(and)v; if you get an error, observe and explain why did you get the error?"
   ]
  },
  {
   "cell_type": "code",
   "execution_count": null,
   "metadata": {},
   "outputs": [
    {
     "name": "stdout",
     "output_type": "stream",
     "text": [
      "Addition of x and y:\n",
      " [[ 6  8]\n",
      " [10 13]]\n",
      "Subtraction of x and y:\n",
      " [[-4 -4]\n",
      " [-4 -3]]\n",
      "x multiplied by 3:\n",
      " [[ 3  6]\n",
      " [ 9 15]]\n",
      "Square of elements in x:\n",
      " [[ 1  4]\n",
      " [ 9 25]]\n",
      "Dot product of v and w: 219\n",
      "Dot product of x and v:\n",
      " [29 77]\n",
      "Dot product of x and y:\n",
      " [[19 22]\n",
      " [50 58]]\n",
      "Concatenation of x and y along rows:\n",
      " [[1 2]\n",
      " [3 5]\n",
      " [5 6]\n",
      " [7 8]]\n",
      "Concatenation of v and w along columns:\n",
      " [[ 9 10]\n",
      " [11 12]]\n",
      "Error during concatenation of x and v: all the input arrays must have same number of dimensions, but the array at index 0 has 2 dimension(s) and the array at index 1 has 1 dimension(s)\n"
     ]
    }
   ],
   "source": [
    "import numpy as np\n",
    "\n",
    "# Given arrays\n",
    "x = np.array([[1, 2], [3, 5]])\n",
    "y = np.array([[5, 6], [7, 8]])\n",
    "v = np.array([9, 10])\n",
    "w = np.array([11, 12])\n",
    "\n",
    "# 1. Add \n",
    "addition = x + y\n",
    "print(\"Addition of x and y:\\n\", addition)\n",
    "\n",
    "# 2. Subtract\n",
    "subtraction = x - y\n",
    "print(\"Subtraction of x and y:\\n\", subtraction)\n",
    "\n",
    "# 3. Multipal the array with any integer \n",
    "multiplied = x * 3\n",
    "print(\"x multiplied by 3:\\n\", multiplied)\n",
    "\n",
    "# 4. Find the square of each element of the array\n",
    "square = np.square(x)\n",
    "print(\"Square of elements in x:\\n\", square)\n",
    "\n",
    "# 5. Dot products\n",
    "dot_v_w = np.dot(v, w)\n",
    "dot_x_v = np.dot(x, v)\n",
    "dot_x_y = np.dot(x, y)\n",
    "print(\"Dot product of v and w:\", dot_v_w)\n",
    "print(\"Dot product of x and v:\\n\", dot_x_v)\n",
    "print(\"Dot product of x and y:\\n\", dot_x_y)\n",
    "\n",
    "# 6. Concatenate x and y along rows, and v and w along columns\n",
    "concat_x_y = np.concatenate((x, y), axis=0)\n",
    "concat_v_w = np.vstack((v, w))\n",
    "print(\"Concatenation of x and y along rows:\\n\", concat_x_y)\n",
    "print(\"Concatenation of v and w along columns:\\n\", concat_v_w)\n",
    "\n",
    "# 7. Concatenate x and v\n",
    "try:\n",
    "    concat_x_v = np.concatenate((x, v), axis=0)\n",
    "    print(\"Concatenation of x and v:\\n\", concat_x_v)\n",
    "except ValueError as e:\n",
    "    print(\"Error during concatenation of x and v:\", e)\n"
   ]
  },
  {
   "cell_type": "markdown",
   "metadata": {},
   "source": [
    "Problem - 4: Matrix Operations:\n",
    "• For the following arrays:\n",
    "A = np.array([[3,4],[7,8]]) and B = np.array([[5,3],[2,1]]);\n",
    "Prove following with Numpy:\n",
    "1. Prove A.A−1 = I.\n",
    "2. Prove AB ̸= BA.\n",
    "3. Prove (AB)\n",
    "\n",
    "T = BTAT\n",
    ".\n",
    "\n",
    "• Solve the following system of Linear equation using Inverse Methods.\n",
    "\n",
    "2x − 3y + z = −1\n",
    "x − y + 2z = −3\n",
    "3x + y − z = 9\n",
    "\n",
    "{Hint: First use Numpy array to represent the equation in Matrix form. Then Solve for: AX = B}\n",
    "• Now: solve the above equation using np.linalg.inv function.{Explore more about ”linalg” function\n",
    "of Numpy}"
   ]
  },
  {
   "cell_type": "code",
   "execution_count": 90,
   "metadata": {},
   "outputs": [
    {
     "name": "stdout",
     "output_type": "stream",
     "text": [
      "A * A^(-1):\n",
      " [[1.00000000e+00 0.00000000e+00]\n",
      " [1.77635684e-15 1.00000000e+00]]\n",
      "Is A * A^(-1) approximately the identity matrix?  True\n",
      "AB:\n",
      " [[23 13]\n",
      " [51 29]]\n",
      "BA:\n",
      " [[36 44]\n",
      " [13 16]]\n",
      "Are AB and BA equal?  False\n",
      "(AB)^T:\n",
      " [[23 51]\n",
      " [13 29]]\n",
      "B^T * A^T:\n",
      " [[23 51]\n",
      " [13 29]]\n",
      "Is (AB)^T equal to B^T * A^T?  True\n",
      "Solution using inverse method (X):\n",
      " [ 2.  1. -2.]\n",
      "Solution using np.linalg.solve (X):\n",
      " [ 2.  1. -2.]\n"
     ]
    }
   ],
   "source": [
    "import numpy as np\n",
    "\n",
    "A = np.array([[3, 4], [7, 8]])\n",
    "B = np.array([[5, 3], [2, 1]])\n",
    "\n",
    "# 1. Prove A.A−1 = I\n",
    "A_inv = np.linalg.inv(A)  \n",
    "identity_matrix = np.dot(A, A_inv)  \n",
    "print(\"A * A^(-1):\\n\", identity_matrix)\n",
    "\n",
    "# Check it's approximately equal to the identity matrix\n",
    "print(\"Is A * A^(-1) approximately the identity matrix? \", np.allclose(identity_matrix, np.eye(A.shape[0])))\n",
    "\n",
    "# 2. Prove AB ≠ BA\n",
    "AB = np.dot(A, B)\n",
    "BA = np.dot(B, A)\n",
    "print(\"AB:\\n\", AB)\n",
    "print(\"BA:\\n\", BA)\n",
    "print(\"Are AB and BA equal? \", np.array_equal(AB, BA))\n",
    "\n",
    "# 3. Prove (AB)^T = B^T A^T\n",
    "AB_T = np.transpose(AB)\n",
    "BT_AT = np.dot(B.T, A.T)\n",
    "print(\"(AB)^T:\\n\", AB_T)\n",
    "print(\"B^T * A^T:\\n\", BT_AT)\n",
    "print(\"Is (AB)^T equal to B^T * A^T? \", np.array_equal(AB_T, BT_AT))\n",
    "\n",
    "# 2x − 3y + z = −1\n",
    "# x − y + 2z = −3\n",
    "# 3x + y − z = 9\n",
    "\n",
    "# AX = B\n",
    "A_matrix = np.array([[2, -3, 1],\n",
    "                     [1, -1, 2],\n",
    "                     [3, 1, -1]])\n",
    "B_vector = np.array([-1, -3, 9])\n",
    "\n",
    "# using the inverse method\n",
    "A_inv_matrix = np.linalg.inv(A_matrix)\n",
    "X = np.dot(A_inv_matrix, B_vector)\n",
    "print(\"Solution using inverse method (X):\\n\", X)\n",
    "\n",
    "# using np.linalg.solve \n",
    "X_solve = np.linalg.solve(A_matrix, B_vector)\n",
    "print(\"Solution using np.linalg.solve (X):\\n\", X_solve)\n"
   ]
  }
 ],
 "metadata": {
  "kernelspec": {
   "display_name": "Python 3",
   "language": "python",
   "name": "python3"
  },
  "language_info": {
   "codemirror_mode": {
    "name": "ipython",
    "version": 3
   },
   "file_extension": ".py",
   "mimetype": "text/x-python",
   "name": "python",
   "nbconvert_exporter": "python",
   "pygments_lexer": "ipython3",
   "version": "3.12.1"
  }
 },
 "nbformat": 4,
 "nbformat_minor": 2
}
